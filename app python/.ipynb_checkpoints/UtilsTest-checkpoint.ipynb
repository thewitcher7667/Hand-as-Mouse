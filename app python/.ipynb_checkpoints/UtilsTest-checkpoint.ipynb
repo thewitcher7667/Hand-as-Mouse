{
 "cells": [
  {
   "cell_type": "code",
   "execution_count": 25,
   "id": "dd8da51f-2b2e-4cb0-815b-7620c235bf52",
   "metadata": {},
   "outputs": [],
   "source": [
    "import os\n",
    "import matplotlib.pyplot as plt\n",
    "import json\n",
    "import imageio as iio\n",
    "from threading import Thread\n",
    "import numpy as np\n",
    "import tensorflow as tf\n",
    "\n",
    "%matplotlib inline"
   ]
  },
  {
   "cell_type": "code",
   "execution_count": 2,
   "id": "beacf9cb-f774-43e5-bc6a-8d096dd62a9f",
   "metadata": {},
   "outputs": [],
   "source": [
    "mainPath = \"../hand_labels\"\n",
    "trainDataPath = mainPath + \"/manual_train\"\n",
    "testDataPath = mainPath + \"/manual_test\"\n",
    "baseShape = (1080, 1920, 3)\n",
    "#What i nedd from the data AKA clasees\n",
    "#1 - hand_box_center\n",
    "# 2- is_left\n",
    "# 3 - hand_pts"
   ]
  },
  {
   "cell_type": "code",
   "execution_count": 20,
   "id": "6412ede2-d74b-4165-bd97-5a3034f474da",
   "metadata": {},
   "outputs": [
    {
     "name": "stdout",
     "output_type": "stream",
     "text": [
      "[(720, 1280, 3), (1080, 1920, 3), (480, 654, 3), (480, 848, 3), (720, 1278, 3), (1080, 1440, 3), (1080, 1916, 3), (480, 854, 3), (720, 960, 3), (1080, 1906, 3), (576, 720, 3), (300, 400, 3)]\n"
     ]
    }
   ],
   "source": [
    "shapes = []\n",
    "images_samples = []\n",
    "images_json = []\n",
    "\n",
    "files = os.listdir(trainDataPath)\n",
    "for i in range(len(files)) : \n",
    "    fileName = files[i]\n",
    "    f = os.path.join(trainDataPath, fileName)\n",
    "    if(fileName.rpartition(\".\")[2] != \"json\"):\n",
    "            img = np.array(iio.v3.imread(f))\n",
    "            img_shape = img.shape \n",
    "            jsonPath = os.path.join(trainDataPath, fileName).rsplit('.', 1)\n",
    "            if img_shape not in shapes: (shapes.append(img_shape),\n",
    "                images_samples.append(img),\n",
    "                images_json.append(json.load(\n",
    "                    open(jsonPath[0]  + \".\" + \"json\")\n",
    "                )))"
   ]
  },
  {
   "cell_type": "code",
   "execution_count": 38,
   "id": "fe187080-7a32-4a24-9293-5bdc829d00d6",
   "metadata": {},
   "outputs": [
    {
     "name": "stdout",
     "output_type": "stream",
     "text": [
      "[[956.0, 345.0, 1.0], [965.3305664062499, 360.48770141601557, 1.0], [971.1534423828125, 386.3084106445313, 1.0], [962.6837768554689, 408.4404296875, 1.0], [957.9195556640625, 439.0036926269532, 1.0], [927.7462768554686, 330.97833251953125, 1.0], [895.455627441406, 343.0982360839843, 1.0], [874.8107299804686, 353.11035156249994, 1.0], [863.6942749023439, 369.97283935546875, 1.0], [911.8656616210936, 313.0619201660156, 1.0], [854.1658935546876, 318.85839843749994, 1.0], [834.5797119140626, 331.50527954101557, 1.0], [819.7577514648438, 346.78692626953125, 1.0], [877.9868774414062, 311.4810485839843, 1.0], [831.9329223632811, 301.99591064453125, 1.0], [812.8761596679688, 315.1697387695313, 1.0], [808.6412963867186, 337.30175781249994, 1.0], [871.6345825195314, 311.4810485839843, 1.0], [836.1677856445312, 307.26544189453136, 1.0], [799.6422119140624, 316.7505798339844, 1.0], [790.1138305664065, 331.50527954101557, 1.0]]\n"
     ]
    }
   ],
   "source": [
    "print(images_json[imgIndex][\"hand_pts\"])"
   ]
  },
  {
   "cell_type": "code",
   "execution_count": 51,
   "id": "d13d2157-4a20-4a1b-b2e8-fa6175b9eb32",
   "metadata": {},
   "outputs": [
    {
     "name": "stdout",
     "output_type": "stream",
     "text": [
      "[[856, 1696, 1.0], [856, 1696, 1.0], [856, 1696, 1.0], [856, 1696, 1.0], [856, 1696, 1.0], [856, 1696, 1.0], [856, 1696, 1.0], [856, 1696, 1.0], [856, 1696, 1.0], [856, 1696, 1.0], [856, 1696, 1.0], [856, 1696, 1.0], [856, 1696, 1.0], [856, 1696, 1.0], [856, 1696, 1.0], [856, 1696, 1.0], [856, 1696, 1.0], [856, 1696, 1.0], [856, 1696, 1.0], [856, 1696, 1.0], [856, 1696, 1.0]]\n",
      "856 1696\n",
      "856 1696\n",
      "856 1696\n",
      "856 1696\n",
      "856 1696\n",
      "856 1696\n",
      "856 1696\n",
      "856 1696\n",
      "856 1696\n",
      "856 1696\n",
      "856 1696\n",
      "856 1696\n",
      "856 1696\n",
      "856 1696\n",
      "856 1696\n",
      "856 1696\n",
      "856 1696\n",
      "856 1696\n",
      "856 1696\n",
      "856 1696\n",
      "856 1696\n"
     ]
    },
    {
     "data": {
      "image/png": "[encoded data removed]",
      "text/plain": [
       "<Figure size 640x480 with 1 Axes>"
      ]
     },
     "metadata": {},
     "output_type": "display_data"
    }
   ],
   "source": [
    "imgIndex = 1\n",
    "img_now = tf.image.resize(images_samples[imgIndex].copy(),(224,224),method='nearest')\n",
    "images_json_now = images_json[imgIndex][\"hand_pts\"].copy()\n",
    "\n",
    "plt.imshow(img_now)\n",
    "for i in images_json_now:\n",
    "    org_shape = images_samples[imgIndex].shape\n",
    "    # i[0] = org_shape[0] - 224\n",
    "    # i[1] = org_shape[1] - 224\n",
    "    print(i[0],i[1],)\n",
    "    plt.plot(i[0],i[1],\".\",markersize=1)"
   ]
  },
  {
   "cell_type": "code",
   "execution_count": null,
   "id": "851efe00-0889-4d89-948d-aa91acf4431c",
   "metadata": {},
   "outputs": [],
   "source": []
  },
  {
   "cell_type": "code",
   "execution_count": 3,
   "id": "13fe4bdd-92a9-4531-8675-f31ef3afbff3",
   "metadata": {},
   "outputs": [],
   "source": [
    "def addData(startIndex,endIndex,labels,images,path) :\n",
    "    files = os.listdir(path)\n",
    "    for i in range(startIndex,endIndex) : \n",
    "        fileName = files[i]\n",
    "        f = os.path.join(path, fileName)\n",
    "        if(fileName.rpartition(\".\")[2] == \"json\"):\n",
    "            fOPen = open(f)\n",
    "            data = json.load(fOPen)\n",
    "            fOPen.close()\n",
    "            \n",
    "            currentData = {}\n",
    "            currentData[\"hand_box_center\"] = data[\"hand_box_center\"]\n",
    "            currentData[\"is_left\"] = data[\"is_left\"]\n",
    "            currentData[\"hand_pts\"] = data[\"hand_pts\"]\n",
    "\n",
    "            labels.append(currentData)\n",
    "        else:\n",
    "            img = np.array(iio.v3.imread(f))\n",
    "            img_shape = img.shape \n",
    "\n",
    "            get_padding_lenght = lambda current_index : (baseShape[current_index] - img_shape[current_index])\n",
    "\n",
    "            img_after_padding = np.pad(img,pad_width=((0,get_padding_lenght(0)),\n",
    "                                                       (0,get_padding_lenght(1)),\n",
    "                                                        (0,0)))\n",
    "                                                      \n",
    "            images.append(img_after_padding) "
   ]
  },
  {
   "cell_type": "code",
   "execution_count": 4,
   "id": "0d563d2c-8361-4efb-8444-6fffc75b77ab",
   "metadata": {},
   "outputs": [],
   "source": [
    "def getBaseData(path,threadCount,countInEachThread) :\n",
    "    labels = []\n",
    "    images = []\n",
    "    threads = []\n",
    "    \n",
    "    for i in range(threadCount) :\n",
    "        th = Thread(name=f\"data {i}\",target=addData, args=([i * countInEachThread, (i+1) * countInEachThread ,\n",
    "                                                           labels ,images ,path]))\n",
    "        th.start()\n",
    "        threads.append(th)\n",
    "\n",
    "    for thread in threads : \n",
    "        thread.join()\n",
    "        \n",
    "    return np.array(labels),np.array(images)"
   ]
  },
  {
   "cell_type": "code",
   "execution_count": 5,
   "id": "ff5596b0-cca7-4d22-a68d-2e8538099829",
   "metadata": {},
   "outputs": [],
   "source": [
    "def get_train_data(half_data=True):\n",
    "    #3824 files on 16 thread with 239 each\n",
    "    countInEachThread = 16 \n",
    "    threadCount = 239\n",
    "    if(half_data) :\n",
    "        countInEachThread = 478 \n",
    "        threadCount = 4\n",
    "    # countInEachThread = 4 \n",
    "    # threadCount = 5\n",
    "    labels,images = getBaseData(trainDataPath,threadCount,countInEachThread)\n",
    "    training_labels,training_images = labels,images\n",
    "\n",
    "    return training_labels,training_images\n",
    "    \n",
    "def get_test_data(half_data=True):\n",
    "     #1692 files on 16 thread with 239 each\n",
    "    countInEachThread = 12 \n",
    "    threadCount = 141\n",
    "    if (half_data):\n",
    "        countInEachThread = 94\n",
    "        threadCount = 9\n",
    "         \n",
    "    labels,images = getBaseData(testDataPath,threadCount,countInEachThread)\n",
    "    test_labels,test_images = labels,images\n",
    "    return test_labels,test_images"
   ]
  },
  {
   "cell_type": "code",
   "execution_count": 6,
   "id": "48511bec-eed0-4eaf-9244-8b4e0894c911",
   "metadata": {},
   "outputs": [
    {
     "name": "stdout",
     "output_type": "stream",
     "text": [
      "423 423 (423, 1080, 1920, 3)\n"
     ]
    }
   ],
   "source": [
    "# training_labels,training_images = get_train_data()\n",
    "test_labels,test_images = get_test_data()\n",
    "\n",
    "# print(len(training_labels),len(training_images),training_images.shape)\n",
    "print(len(test_labels),len(test_images),test_images.shape)"
   ]
  },
  {
   "cell_type": "code",
   "execution_count": 7,
   "id": "5c548ced-e7a2-46e4-b41c-55b9a2363a14",
   "metadata": {},
   "outputs": [
    {
     "ename": "NameError",
     "evalue": "name 'training_images' is not defined",
     "output_type": "error",
     "traceback": [
      "\u001b[1;31m---------------------------------------------------------------------------\u001b[0m",
      "\u001b[1;31mNameError\u001b[0m                                 Traceback (most recent call last)",
      "Cell \u001b[1;32mIn[7], line 2\u001b[0m\n\u001b[0;32m      1\u001b[0m imgIndex \u001b[38;5;241m=\u001b[39m \u001b[38;5;241m52\u001b[39m\n\u001b[1;32m----> 2\u001b[0m plt\u001b[38;5;241m.\u001b[39mimshow(\u001b[43mtraining_images\u001b[49m[imgIndex])\n\u001b[0;32m      3\u001b[0m \u001b[38;5;28;01mfor\u001b[39;00m i \u001b[38;5;129;01min\u001b[39;00m training_labels[imgIndex][\u001b[38;5;124m\"\u001b[39m\u001b[38;5;124mhand_pts\u001b[39m\u001b[38;5;124m\"\u001b[39m]:\n\u001b[0;32m      4\u001b[0m     plt\u001b[38;5;241m.\u001b[39mplot(i[\u001b[38;5;241m0\u001b[39m],i[\u001b[38;5;241m1\u001b[39m],\u001b[38;5;124m\"\u001b[39m\u001b[38;5;124m.\u001b[39m\u001b[38;5;124m\"\u001b[39m,markersize\u001b[38;5;241m=\u001b[39m\u001b[38;5;241m1\u001b[39m)\n",
      "\u001b[1;31mNameError\u001b[0m: name 'training_images' is not defined"
     ]
    }
   ],
   "source": [
    "imgIndex = 52\n",
    "plt.imshow(training_images[imgIndex])\n",
    "for i in training_labels[imgIndex][\"hand_pts\"]:\n",
    "    plt.plot(i[0],i[1],\".\",markersize=1)"
   ]
  },
  {
   "cell_type": "code",
   "execution_count": null,
   "id": "939271b6-ef4d-4834-bcdb-1eeb6f7c1c17",
   "metadata": {},
   "outputs": [],
   "source": []
  }
 ],
 "metadata": {
  "kernelspec": {
   "display_name": "Python 3 (ipykernel)",
   "language": "python",
   "name": "python3"
  },
  "language_info": {
   "codemirror_mode": {
    "name": "ipython",
    "version": 3
   },
   "file_extension": ".py",
   "mimetype": "text/x-python",
   "name": "python",
   "nbconvert_exporter": "python",
   "pygments_lexer": "ipython3",
   "version": "3.9.7"
  }
 },
 "nbformat": 4,
 "nbformat_minor": 5
}
